{
  "nbformat": 4,
  "nbformat_minor": 0,
  "metadata": {
    "colab": {
      "provenance": []
    },
    "kernelspec": {
      "name": "python3",
      "display_name": "Python 3"
    },
    "language_info": {
      "name": "python"
    }
  },
  "cells": [
    {
      "cell_type": "code",
      "metadata": {
        "id": "AnhKkScEPwt2"
      },
      "source": [
        "#numpy --> package for numerical computing, To overcome limitations of Python ?\n",
        "#array ??\n",
        "#list --> collection of heterogenous type of elements\n",
        "#import package\n",
        "import numpy as np\n",
        "\n"
      ],
      "execution_count": null,
      "outputs": []
    },
    {
      "cell_type": "code",
      "metadata": {
        "id": "3nLJEpPqS0AX"
      },
      "source": [
        "array1 = np.array([12,13,-7]) #1-D array"
      ],
      "execution_count": null,
      "outputs": []
    },
    {
      "cell_type": "code",
      "metadata": {
        "colab": {
          "base_uri": "https://localhost:8080/"
        },
        "id": "Cudd79JjTPwk",
        "outputId": "28fb2344-4de6-4401-9b8d-337ba40af155"
      },
      "source": [
        "type(array1)"
      ],
      "execution_count": null,
      "outputs": [
        {
          "output_type": "execute_result",
          "data": {
            "text/plain": [
              "numpy.ndarray"
            ]
          },
          "metadata": {},
          "execution_count": 10
        }
      ]
    },
    {
      "cell_type": "code",
      "metadata": {
        "id": "h0OEffPaTXZZ"
      },
      "source": [
        "array2 = np.zeros((2,3)) #rows --> 2, columns --> 3"
      ],
      "execution_count": null,
      "outputs": []
    },
    {
      "cell_type": "code",
      "metadata": {
        "colab": {
          "base_uri": "https://localhost:8080/"
        },
        "id": "RP7PIY7HTmy9",
        "outputId": "02359913-7095-4ed5-f517-b92a7cc33f81"
      },
      "source": [
        "array2"
      ],
      "execution_count": null,
      "outputs": [
        {
          "output_type": "execute_result",
          "data": {
            "text/plain": [
              "array([[0., 0., 0.],\n",
              "       [0., 0., 0.]])"
            ]
          },
          "metadata": {},
          "execution_count": 12
        }
      ]
    },
    {
      "cell_type": "code",
      "metadata": {
        "id": "Rex9P-iLTo_c"
      },
      "source": [
        "array3 = np.empty((3,4)) #uninitialized"
      ],
      "execution_count": null,
      "outputs": []
    },
    {
      "cell_type": "code",
      "metadata": {
        "colab": {
          "base_uri": "https://localhost:8080/"
        },
        "id": "lYO-ZqHRUWCA",
        "outputId": "aa07ce49-288b-4331-b52e-0fce01af9349"
      },
      "source": [
        "array3"
      ],
      "execution_count": null,
      "outputs": [
        {
          "output_type": "execute_result",
          "data": {
            "text/plain": [
              "array([[4.68243518e-310, 0.00000000e+000, 0.00000000e+000,\n",
              "        0.00000000e+000],\n",
              "       [0.00000000e+000, 0.00000000e+000, 0.00000000e+000,\n",
              "        0.00000000e+000],\n",
              "       [0.00000000e+000, 0.00000000e+000, 0.00000000e+000,\n",
              "        0.00000000e+000]])"
            ]
          },
          "metadata": {},
          "execution_count": 14
        }
      ]
    },
    {
      "cell_type": "code",
      "metadata": {
        "id": "bnN4E1K-UXlz",
        "colab": {
          "base_uri": "https://localhost:8080/"
        },
        "outputId": "84b0a33b-18cd-436e-ef3a-b18a363bbd2e"
      },
      "source": [
        "#2-D array\n",
        "array_2d = np.array([[23,4,5],[-13,1,0]])\n",
        "print(array_2d.flatten())"
      ],
      "execution_count": null,
      "outputs": [
        {
          "output_type": "stream",
          "name": "stdout",
          "text": [
            "[ 23   4   5 -13   1   0]\n"
          ]
        }
      ]
    },
    {
      "cell_type": "code",
      "metadata": {
        "colab": {
          "base_uri": "https://localhost:8080/"
        },
        "id": "zZ2980tJVEPC",
        "outputId": "6e07c2a7-c36a-4ca6-f953-4e1977ac83b0"
      },
      "source": [
        "array_2d.shape"
      ],
      "execution_count": null,
      "outputs": [
        {
          "output_type": "execute_result",
          "data": {
            "text/plain": [
              "(2, 3)"
            ]
          },
          "metadata": {},
          "execution_count": 16
        }
      ]
    },
    {
      "cell_type": "code",
      "metadata": {
        "colab": {
          "base_uri": "https://localhost:8080/"
        },
        "id": "A114o7XMVh4V",
        "outputId": "f280cfc1-2790-4383-e69e-adb9b456d430"
      },
      "source": [
        "array_2d.dtype"
      ],
      "execution_count": null,
      "outputs": [
        {
          "output_type": "execute_result",
          "data": {
            "text/plain": [
              "dtype('int64')"
            ]
          },
          "metadata": {},
          "execution_count": 17
        }
      ]
    },
    {
      "cell_type": "code",
      "metadata": {
        "colab": {
          "base_uri": "https://localhost:8080/"
        },
        "id": "bOkEw3o4V1yz",
        "outputId": "f7537b93-5754-4a3b-b4e1-f2f8ef97ea8e"
      },
      "source": [
        "array_2d.data"
      ],
      "execution_count": null,
      "outputs": [
        {
          "output_type": "execute_result",
          "data": {
            "text/plain": [
              "<memory at 0x7f4ff6152590>"
            ]
          },
          "metadata": {},
          "execution_count": 18
        }
      ]
    },
    {
      "cell_type": "code",
      "metadata": {
        "id": "H-40CTT5WAJw"
      },
      "source": [
        "#array with random values\n",
        "#seed\n",
        "np.random.seed(13)\n",
        "rand_array = np.random.rand(3)"
      ],
      "execution_count": null,
      "outputs": []
    },
    {
      "cell_type": "code",
      "metadata": {
        "colab": {
          "base_uri": "https://localhost:8080/"
        },
        "id": "B5PFA4UoWlFa",
        "outputId": "ddc28bcc-5664-4884-dd84-8c9ca51daf6c"
      },
      "source": [
        "rand_array"
      ],
      "execution_count": null,
      "outputs": [
        {
          "output_type": "execute_result",
          "data": {
            "text/plain": [
              "array([0.77770241, 0.23754122, 0.82427853])"
            ]
          },
          "metadata": {},
          "execution_count": 20
        }
      ]
    },
    {
      "cell_type": "code",
      "metadata": {
        "id": "mhZtZ-kxWnG0"
      },
      "source": [
        "np.random.seed(25)\n",
        "rand_array_new = np.random.rand(3)"
      ],
      "execution_count": null,
      "outputs": []
    },
    {
      "cell_type": "code",
      "metadata": {
        "colab": {
          "base_uri": "https://localhost:8080/"
        },
        "id": "Ch_8DqK-WuB0",
        "outputId": "cdc9acdf-fe54-405b-97af-432d9a2e2a9e"
      },
      "source": [
        "rand_array_new"
      ],
      "execution_count": null,
      "outputs": [
        {
          "output_type": "execute_result",
          "data": {
            "text/plain": [
              "array([0.87012414, 0.58227693, 0.27883894])"
            ]
          },
          "metadata": {},
          "execution_count": 22
        }
      ]
    },
    {
      "cell_type": "code",
      "metadata": {
        "colab": {
          "base_uri": "https://localhost:8080/"
        },
        "id": "e0ftEI1dWv0Q",
        "outputId": "9ace932b-4f62-4c8a-c3ae-5db1481b2526"
      },
      "source": [
        "array_2d"
      ],
      "execution_count": null,
      "outputs": [
        {
          "output_type": "execute_result",
          "data": {
            "text/plain": [
              "array([[ 23,   4,   5],\n",
              "       [-13,   1,   0]])"
            ]
          },
          "metadata": {},
          "execution_count": 23
        }
      ]
    },
    {
      "cell_type": "code",
      "metadata": {
        "id": "xFX9jyZ4X_-G"
      },
      "source": [
        "array_2d = array_2d.T"
      ],
      "execution_count": null,
      "outputs": []
    },
    {
      "cell_type": "code",
      "metadata": {
        "colab": {
          "base_uri": "https://localhost:8080/"
        },
        "id": "kGAjr95iYF1I",
        "outputId": "700ef8b3-586d-49c5-ec70-102ef0f52fc1"
      },
      "source": [
        "array_2d"
      ],
      "execution_count": null,
      "outputs": [
        {
          "output_type": "execute_result",
          "data": {
            "text/plain": [
              "array([[ 23, -13],\n",
              "       [  4,   1],\n",
              "       [  5,   0]])"
            ]
          },
          "metadata": {},
          "execution_count": 25
        }
      ]
    },
    {
      "cell_type": "code",
      "metadata": {
        "colab": {
          "base_uri": "https://localhost:8080/"
        },
        "id": "CyZh05CqYXmU",
        "outputId": "a4c53108-7a84-4564-af00-bf5094649a39"
      },
      "source": [
        "array_2d.size"
      ],
      "execution_count": null,
      "outputs": [
        {
          "output_type": "execute_result",
          "data": {
            "text/plain": [
              "6"
            ]
          },
          "metadata": {},
          "execution_count": 26
        }
      ]
    },
    {
      "cell_type": "code",
      "metadata": {
        "colab": {
          "base_uri": "https://localhost:8080/"
        },
        "id": "edovIyzxYmmD",
        "outputId": "fc97e1d4-2fb3-4530-d1df-1becba656353"
      },
      "source": [
        "array_2d.ndim"
      ],
      "execution_count": null,
      "outputs": [
        {
          "output_type": "execute_result",
          "data": {
            "text/plain": [
              "2"
            ]
          },
          "metadata": {},
          "execution_count": 27
        }
      ]
    },
    {
      "cell_type": "code",
      "metadata": {
        "colab": {
          "base_uri": "https://localhost:8080/"
        },
        "id": "TgcNwt2oYxfF",
        "outputId": "a703159e-a6fb-4633-e143-42cd7d3336d1"
      },
      "source": [
        "array_2d"
      ],
      "execution_count": null,
      "outputs": [
        {
          "output_type": "execute_result",
          "data": {
            "text/plain": [
              "array([[ 23, -13],\n",
              "       [  4,   1],\n",
              "       [  5,   0]])"
            ]
          },
          "metadata": {},
          "execution_count": 28
        }
      ]
    },
    {
      "cell_type": "code",
      "metadata": {
        "colab": {
          "base_uri": "https://localhost:8080/"
        },
        "id": "NqlQ-aT4ZwVW",
        "outputId": "63dfb671-4d57-48dc-dcf0-abc89e09f7b1"
      },
      "source": [
        "array_2d[2,0] #array[row_index,col_index]"
      ],
      "execution_count": null,
      "outputs": [
        {
          "output_type": "execute_result",
          "data": {
            "text/plain": [
              "5"
            ]
          },
          "metadata": {},
          "execution_count": 29
        }
      ]
    },
    {
      "cell_type": "code",
      "metadata": {
        "id": "BRRWzBGCaIA_"
      },
      "source": [
        "array_3d = np.arange(1,7) #arange\n",
        "array_3d = array_3d.reshape((1,2,3)) #reshape"
      ],
      "execution_count": null,
      "outputs": []
    },
    {
      "cell_type": "code",
      "metadata": {
        "colab": {
          "base_uri": "https://localhost:8080/"
        },
        "id": "489kbYNubEix",
        "outputId": "8d3c3db5-c1e1-499f-b674-3bb72a282c3a"
      },
      "source": [
        "array_3d.shape"
      ],
      "execution_count": null,
      "outputs": [
        {
          "output_type": "execute_result",
          "data": {
            "text/plain": [
              "(1, 2, 3)"
            ]
          },
          "metadata": {},
          "execution_count": 31
        }
      ]
    },
    {
      "cell_type": "code",
      "metadata": {
        "colab": {
          "base_uri": "https://localhost:8080/"
        },
        "id": "2tTneGm2e7ML",
        "outputId": "3fb4ca3e-d26a-456d-89b8-3905cfa26a67"
      },
      "source": [
        "array1"
      ],
      "execution_count": null,
      "outputs": [
        {
          "output_type": "execute_result",
          "data": {
            "text/plain": [
              "array([12, 13, -7])"
            ]
          },
          "metadata": {},
          "execution_count": 32
        }
      ]
    },
    {
      "cell_type": "code",
      "metadata": {
        "colab": {
          "base_uri": "https://localhost:8080/"
        },
        "id": "g1qu4jAEfZk6",
        "outputId": "ea5faf81-1aa9-481c-8a98-32e97ff167ed"
      },
      "source": [
        "#slicing\n",
        "array1[1:3]"
      ],
      "execution_count": null,
      "outputs": [
        {
          "output_type": "execute_result",
          "data": {
            "text/plain": [
              "array([13, -7])"
            ]
          },
          "metadata": {},
          "execution_count": 33
        }
      ]
    },
    {
      "cell_type": "code",
      "metadata": {
        "colab": {
          "base_uri": "https://localhost:8080/"
        },
        "id": "-0qglF4Hflbt",
        "outputId": "d86bca20-49d5-45e1-8c05-ccd5612c78e1"
      },
      "source": [
        "array_2d"
      ],
      "execution_count": null,
      "outputs": [
        {
          "output_type": "execute_result",
          "data": {
            "text/plain": [
              "array([[ 23, -13],\n",
              "       [  4,   1],\n",
              "       [  5,   0]])"
            ]
          },
          "metadata": {},
          "execution_count": 34
        }
      ]
    },
    {
      "cell_type": "code",
      "metadata": {
        "colab": {
          "base_uri": "https://localhost:8080/"
        },
        "id": "DkNqtwlwfrAn",
        "outputId": "0d092f72-14e0-4cfb-eeaa-f2c72c7fc21b"
      },
      "source": [
        "#array_2d[2,0:2]\n",
        "array_2d[2:,:]"
      ],
      "execution_count": null,
      "outputs": [
        {
          "output_type": "execute_result",
          "data": {
            "text/plain": [
              "array([[5, 0]])"
            ]
          },
          "metadata": {},
          "execution_count": 35
        }
      ]
    },
    {
      "cell_type": "code",
      "metadata": {
        "colab": {
          "base_uri": "https://localhost:8080/"
        },
        "id": "y8YJ8KLXgBIF",
        "outputId": "936c49fc-2a76-4440-dd25-08200817d2bc"
      },
      "source": [
        "array_3d"
      ],
      "execution_count": null,
      "outputs": [
        {
          "output_type": "execute_result",
          "data": {
            "text/plain": [
              "array([[[1, 2, 3],\n",
              "        [4, 5, 6]]])"
            ]
          },
          "metadata": {},
          "execution_count": 36
        }
      ]
    },
    {
      "cell_type": "code",
      "metadata": {
        "id": "omPayBEgg4xq"
      },
      "source": [
        "#flatten\n",
        "array_flattned=array_3d.flatten()"
      ],
      "execution_count": null,
      "outputs": []
    },
    {
      "cell_type": "code",
      "metadata": {
        "colab": {
          "base_uri": "https://localhost:8080/"
        },
        "id": "FlFtKg91g90l",
        "outputId": "03930334-1696-4538-b0f3-7bad92b98fbf"
      },
      "source": [
        "array_flattned"
      ],
      "execution_count": null,
      "outputs": [
        {
          "output_type": "execute_result",
          "data": {
            "text/plain": [
              "array([1, 2, 3, 4, 5, 6])"
            ]
          },
          "metadata": {},
          "execution_count": 38
        }
      ]
    },
    {
      "cell_type": "code",
      "metadata": {
        "colab": {
          "base_uri": "https://localhost:8080/"
        },
        "id": "5BwNC1GvhIJ7",
        "outputId": "72cc97ac-ec90-4352-c119-baa004205959"
      },
      "source": [
        "array1"
      ],
      "execution_count": null,
      "outputs": [
        {
          "output_type": "execute_result",
          "data": {
            "text/plain": [
              "array([12, 13, -7])"
            ]
          },
          "metadata": {},
          "execution_count": 39
        }
      ]
    },
    {
      "cell_type": "code",
      "metadata": {
        "id": "81yGon96hVI6"
      },
      "source": [
        "height = [170,178,170,173]\n",
        "weight = [80,76,70,70]"
      ],
      "execution_count": null,
      "outputs": []
    },
    {
      "cell_type": "code",
      "metadata": {
        "colab": {
          "base_uri": "https://localhost:8080/"
        },
        "id": "cFr_LggdhWib",
        "outputId": "77e26c09-ba75-4177-9fde-7d9c2477356c"
      },
      "source": [
        "#Element-wise addition : height + weight\n",
        "height + weight #append"
      ],
      "execution_count": null,
      "outputs": [
        {
          "output_type": "execute_result",
          "data": {
            "text/plain": [
              "[170, 178, 170, 173, 80, 76, 70, 70]"
            ]
          },
          "metadata": {},
          "execution_count": 41
        }
      ]
    },
    {
      "cell_type": "code",
      "metadata": {
        "id": "akR1rdyJiRKH"
      },
      "source": [
        "#for loop : Inefficient\n",
        "height_array = np.array(height)\n",
        "weight_array = np.array(weight)"
      ],
      "execution_count": null,
      "outputs": []
    },
    {
      "cell_type": "code",
      "metadata": {
        "colab": {
          "base_uri": "https://localhost:8080/"
        },
        "id": "LG8fKTp1i1xx",
        "outputId": "23d39fcb-47e8-414c-9f64-a28501132b0f"
      },
      "source": [
        "height_array * weight_array #Element-wise operation\n"
      ],
      "execution_count": null,
      "outputs": [
        {
          "output_type": "execute_result",
          "data": {
            "text/plain": [
              "array([13600, 13528, 11900, 12110])"
            ]
          },
          "metadata": {},
          "execution_count": 43
        }
      ]
    },
    {
      "cell_type": "code",
      "metadata": {
        "colab": {
          "base_uri": "https://localhost:8080/"
        },
        "id": "QN6XmjGci4B8",
        "outputId": "65254516-6afc-4794-e905-e9f40d54f2f8"
      },
      "source": [
        "#Comparison Operation\n",
        "height_array < weight_array"
      ],
      "execution_count": null,
      "outputs": [
        {
          "output_type": "execute_result",
          "data": {
            "text/plain": [
              "array([False, False, False, False])"
            ]
          },
          "metadata": {},
          "execution_count": 44
        }
      ]
    },
    {
      "cell_type": "code",
      "metadata": {
        "colab": {
          "base_uri": "https://localhost:8080/"
        },
        "id": "A2FFLHXqjc4H",
        "outputId": "b53be8ce-55ff-4df0-f0ae-ebad636a0d8e"
      },
      "source": [
        "#Iterating over arrays\n",
        "array_2d"
      ],
      "execution_count": null,
      "outputs": [
        {
          "output_type": "execute_result",
          "data": {
            "text/plain": [
              "array([[ 23, -13],\n",
              "       [  4,   1],\n",
              "       [  5,   0]])"
            ]
          },
          "metadata": {},
          "execution_count": 45
        }
      ]
    },
    {
      "cell_type": "code",
      "metadata": {
        "colab": {
          "base_uri": "https://localhost:8080/"
        },
        "id": "ranDhGQKkHw0",
        "outputId": "c12a49f9-4539-435b-a8bf-c1dcc30248c4"
      },
      "source": [
        "for i in np.nditer(array_2d): #nditer\n",
        "  print(i)"
      ],
      "execution_count": null,
      "outputs": [
        {
          "output_type": "stream",
          "name": "stdout",
          "text": [
            "23\n",
            "4\n",
            "5\n",
            "-13\n",
            "1\n",
            "0\n"
          ]
        }
      ]
    },
    {
      "cell_type": "code",
      "metadata": {
        "colab": {
          "base_uri": "https://localhost:8080/"
        },
        "id": "1-SGrIEYkXcs",
        "outputId": "6ccb5902-4a59-45a5-d9dd-e063a592d138"
      },
      "source": [
        "#stride\n",
        "array_2d"
      ],
      "execution_count": null,
      "outputs": [
        {
          "output_type": "execute_result",
          "data": {
            "text/plain": [
              "array([[ 23, -13],\n",
              "       [  4,   1],\n",
              "       [  5,   0]])"
            ]
          },
          "metadata": {},
          "execution_count": 47
        }
      ]
    },
    {
      "cell_type": "code",
      "metadata": {
        "colab": {
          "base_uri": "https://localhost:8080/"
        },
        "id": "9UKWlBL7k0aS",
        "outputId": "b8b5433c-3234-4dc1-ec8d-2252f5aed0d0"
      },
      "source": [
        "array_2d.strides"
      ],
      "execution_count": null,
      "outputs": [
        {
          "output_type": "execute_result",
          "data": {
            "text/plain": [
              "(8, 24)"
            ]
          },
          "metadata": {},
          "execution_count": 48
        }
      ]
    },
    {
      "cell_type": "code",
      "metadata": {
        "colab": {
          "base_uri": "https://localhost:8080/"
        },
        "id": "4Lktk00sk6m0",
        "outputId": "8cfec1c9-3c1c-4c92-ef65-56e4b8fa7d30"
      },
      "source": [
        "array_2d.dtype"
      ],
      "execution_count": null,
      "outputs": [
        {
          "output_type": "execute_result",
          "data": {
            "text/plain": [
              "dtype('int64')"
            ]
          },
          "metadata": {},
          "execution_count": 49
        }
      ]
    },
    {
      "cell_type": "code",
      "metadata": {
        "colab": {
          "base_uri": "https://localhost:8080/"
        },
        "id": "fKa1-6TzlBJS",
        "outputId": "b3c0a887-5f18-48c1-88c4-9f377a0b3324"
      },
      "source": [
        "#Mathematical Functions : Trigonometric Function\n",
        "np.tan(np.pi/4)"
      ],
      "execution_count": null,
      "outputs": [
        {
          "output_type": "execute_result",
          "data": {
            "text/plain": [
              "0.9999999999999999"
            ]
          },
          "metadata": {},
          "execution_count": 50
        }
      ]
    },
    {
      "cell_type": "code",
      "metadata": {
        "colab": {
          "base_uri": "https://localhost:8080/"
        },
        "id": "4j0nFQ5vqeQw",
        "outputId": "711a03be-ce34-4a29-81a0-31116da7eb94"
      },
      "source": [
        "#Inverse Trigonometric Function\n",
        "np.degrees(np.arcsin(1))\n",
        "np.degrees(np.arctan(1))"
      ],
      "execution_count": null,
      "outputs": [
        {
          "output_type": "execute_result",
          "data": {
            "text/plain": [
              "45.0"
            ]
          },
          "metadata": {},
          "execution_count": 51
        }
      ]
    },
    {
      "cell_type": "code",
      "metadata": {
        "colab": {
          "base_uri": "https://localhost:8080/"
        },
        "id": "4roSPwMwrYxR",
        "outputId": "3df9873c-d34f-4eec-e170-f6c6477021f4"
      },
      "source": [
        "#Hyperbolic Functions\n",
        "np.sinh(0)\n",
        "np.cosh(0)"
      ],
      "execution_count": null,
      "outputs": [
        {
          "output_type": "execute_result",
          "data": {
            "text/plain": [
              "1.0"
            ]
          },
          "metadata": {},
          "execution_count": 52
        }
      ]
    },
    {
      "cell_type": "code",
      "metadata": {
        "colab": {
          "base_uri": "https://localhost:8080/"
        },
        "id": "kA__alP2sgI5",
        "outputId": "9ed03183-495c-4d59-9c39-dd6bdf65cd86"
      },
      "source": [
        "np.arcsinh(0)"
      ],
      "execution_count": null,
      "outputs": [
        {
          "output_type": "execute_result",
          "data": {
            "text/plain": [
              "0.0"
            ]
          },
          "metadata": {},
          "execution_count": 53
        }
      ]
    },
    {
      "cell_type": "code",
      "metadata": {
        "id": "intzShDVs3Y3"
      },
      "source": [
        "#Rounding Functions\n",
        "f_array = np.array([0.1485,1.1726,2.99])"
      ],
      "execution_count": null,
      "outputs": []
    },
    {
      "cell_type": "code",
      "metadata": {
        "colab": {
          "base_uri": "https://localhost:8080/"
        },
        "id": "8H32vaR0tTI1",
        "outputId": "38c2e806-ff49-4889-87e0-4888e2139d68"
      },
      "source": [
        "#around --> lesser accurate but faster\n",
        "np.around(f_array,2)"
      ],
      "execution_count": null,
      "outputs": [
        {
          "output_type": "execute_result",
          "data": {
            "text/plain": [
              "array([0.15, 1.17, 2.99])"
            ]
          },
          "metadata": {},
          "execution_count": 55
        }
      ]
    },
    {
      "cell_type": "code",
      "metadata": {
        "colab": {
          "base_uri": "https://localhost:8080/"
        },
        "id": "ohetKX-jth3F",
        "outputId": "a5be4ebc-f781-44db-92f0-3bea48991edc"
      },
      "source": [
        "#round\n",
        "np.round(f_array,2)"
      ],
      "execution_count": null,
      "outputs": [
        {
          "output_type": "execute_result",
          "data": {
            "text/plain": [
              "array([0.15, 1.17, 2.99])"
            ]
          },
          "metadata": {},
          "execution_count": 56
        }
      ]
    },
    {
      "cell_type": "code",
      "metadata": {
        "colab": {
          "base_uri": "https://localhost:8080/"
        },
        "id": "txa1iyWUtqZn",
        "outputId": "5e4c601b-2937-4f0f-c405-47e8cea11c63"
      },
      "source": [
        "np.round(56294995342131.5, 3)"
      ],
      "execution_count": null,
      "outputs": [
        {
          "output_type": "execute_result",
          "data": {
            "text/plain": [
              "56294995342131.51"
            ]
          },
          "metadata": {},
          "execution_count": 57
        }
      ]
    },
    {
      "cell_type": "code",
      "metadata": {
        "colab": {
          "base_uri": "https://localhost:8080/"
        },
        "id": "wlWuIJv3ufx4",
        "outputId": "fdfacc86-2813-4f2e-fb98-56874627a9fc"
      },
      "source": [
        "np.around(56294995342131.5, 3)"
      ],
      "execution_count": null,
      "outputs": [
        {
          "output_type": "execute_result",
          "data": {
            "text/plain": [
              "56294995342131.51"
            ]
          },
          "metadata": {},
          "execution_count": 58
        }
      ]
    },
    {
      "cell_type": "code",
      "metadata": {
        "id": "LFwtDbQ5uker"
      },
      "source": [
        "f_array = [12.3,1.3,4.5]"
      ],
      "execution_count": null,
      "outputs": []
    },
    {
      "cell_type": "code",
      "metadata": {
        "colab": {
          "base_uri": "https://localhost:8080/"
        },
        "id": "AXKGJRqRu5R9",
        "outputId": "be889f6e-703d-49c2-b79a-8ed0e8bc4071"
      },
      "source": [
        "np.rint(f_array) #rounding to nearest integer"
      ],
      "execution_count": null,
      "outputs": [
        {
          "output_type": "execute_result",
          "data": {
            "text/plain": [
              "array([12.,  1.,  4.])"
            ]
          },
          "metadata": {},
          "execution_count": 86
        }
      ]
    },
    {
      "cell_type": "code",
      "metadata": {
        "colab": {
          "base_uri": "https://localhost:8080/"
        },
        "id": "jcSMAFOju87f",
        "outputId": "cffaa13f-a84c-42be-f028-a9e7d1241e66"
      },
      "source": [
        "#fix\n",
        "print(np.fix(f_array)) #floor"
      ],
      "execution_count": null,
      "outputs": [
        {
          "output_type": "stream",
          "name": "stdout",
          "text": [
            "[12.  1.  4.]\n"
          ]
        }
      ]
    },
    {
      "cell_type": "code",
      "metadata": {
        "colab": {
          "base_uri": "https://localhost:8080/"
        },
        "id": "xeYq0wq9vThh",
        "outputId": "7dc010d5-34e8-4a6b-b5a3-e53564a528e6"
      },
      "source": [
        "#floor, ceil\n",
        "np.ceil(f_array)"
      ],
      "execution_count": null,
      "outputs": [
        {
          "output_type": "execute_result",
          "data": {
            "text/plain": [
              "array([1., 2., 3.])"
            ]
          },
          "metadata": {},
          "execution_count": 62
        }
      ]
    },
    {
      "cell_type": "code",
      "metadata": {
        "colab": {
          "base_uri": "https://localhost:8080/"
        },
        "id": "nyv9mZkSvomN",
        "outputId": "27dab3fd-aa03-4610-c871-0e84b2af9a34"
      },
      "source": [
        "np.floor(f_array)"
      ],
      "execution_count": null,
      "outputs": [
        {
          "output_type": "execute_result",
          "data": {
            "text/plain": [
              "array([0., 1., 2.])"
            ]
          },
          "metadata": {},
          "execution_count": 63
        }
      ]
    },
    {
      "cell_type": "code",
      "metadata": {
        "colab": {
          "base_uri": "https://localhost:8080/"
        },
        "id": "3z-yx1VtvvQo",
        "outputId": "47c11e26-83bd-4e62-e51f-dc95a6cf4d73"
      },
      "source": [
        "#sum of array elements\n",
        "f_array"
      ],
      "execution_count": null,
      "outputs": [
        {
          "output_type": "execute_result",
          "data": {
            "text/plain": [
              "array([0.1485, 1.1726, 2.99  ])"
            ]
          },
          "metadata": {},
          "execution_count": 64
        }
      ]
    },
    {
      "cell_type": "code",
      "metadata": {
        "colab": {
          "base_uri": "https://localhost:8080/"
        },
        "id": "2WinLVBuzfBx",
        "outputId": "17bada4c-54b7-492b-8d5c-d89eab59b0b2"
      },
      "source": [
        "np.sum(f_array)"
      ],
      "execution_count": null,
      "outputs": [
        {
          "output_type": "execute_result",
          "data": {
            "text/plain": [
              "4.311100000000001"
            ]
          },
          "metadata": {},
          "execution_count": 65
        }
      ]
    },
    {
      "cell_type": "code",
      "metadata": {
        "colab": {
          "base_uri": "https://localhost:8080/"
        },
        "id": "94elbeCOzlbL",
        "outputId": "d1191961-b62c-450b-ab9a-9cb9db6b650f"
      },
      "source": [
        "#nan --> not a number\n",
        "np.nansum([2,np.nan,3])"
      ],
      "execution_count": null,
      "outputs": [
        {
          "output_type": "execute_result",
          "data": {
            "text/plain": [
              "5.0"
            ]
          },
          "metadata": {},
          "execution_count": 66
        }
      ]
    },
    {
      "cell_type": "code",
      "metadata": {
        "colab": {
          "base_uri": "https://localhost:8080/"
        },
        "id": "zyTSS-Lg0IMF",
        "outputId": "98fdb7dc-20af-4bce-d3ef-42b134587f02"
      },
      "source": [
        "a= np.diff([13,4,2]) #1st discrete difference along given axis\n",
        "print(np.diff(a))             #2nd discrete difference"
      ],
      "execution_count": null,
      "outputs": [
        {
          "output_type": "stream",
          "name": "stdout",
          "text": [
            "[7]\n"
          ]
        }
      ]
    },
    {
      "cell_type": "code",
      "metadata": {
        "colab": {
          "base_uri": "https://localhost:8080/"
        },
        "id": "KaSbKg9804iw",
        "outputId": "2dafff19-4cfb-4421-92a3-e48e92e3029f"
      },
      "source": [
        "np.cumsum([3,4,12])"
      ],
      "execution_count": null,
      "outputs": [
        {
          "output_type": "execute_result",
          "data": {
            "text/plain": [
              "array([ 3,  7, 19])"
            ]
          },
          "metadata": {},
          "execution_count": 68
        }
      ]
    },
    {
      "cell_type": "code",
      "metadata": {
        "id": "to7NWmbv1htK"
      },
      "source": [
        "#Exponents & logarithms\n",
        "a = np.array([2,3])"
      ],
      "execution_count": null,
      "outputs": []
    },
    {
      "cell_type": "code",
      "metadata": {
        "colab": {
          "base_uri": "https://localhost:8080/"
        },
        "id": "eGWJDPJE2W-4",
        "outputId": "9cdd7960-d89b-4dd2-a79b-479f5b08acac"
      },
      "source": [
        "np.exp(a)"
      ],
      "execution_count": null,
      "outputs": [
        {
          "output_type": "execute_result",
          "data": {
            "text/plain": [
              "array([ 7.3890561 , 20.08553692])"
            ]
          },
          "metadata": {},
          "execution_count": 70
        }
      ]
    },
    {
      "cell_type": "code",
      "metadata": {
        "colab": {
          "base_uri": "https://localhost:8080/"
        },
        "id": "OI4o_dNw3aIV",
        "outputId": "4732dba1-5d50-423a-ff6a-f0a6d0c0e839"
      },
      "source": [
        "2.718281**3"
      ],
      "execution_count": null,
      "outputs": [
        {
          "output_type": "execute_result",
          "data": {
            "text/plain": [
              "20.085518558602185"
            ]
          },
          "metadata": {},
          "execution_count": 71
        }
      ]
    },
    {
      "cell_type": "code",
      "metadata": {
        "colab": {
          "base_uri": "https://localhost:8080/"
        },
        "id": "z7SGVE663qbu",
        "outputId": "a4a6b8d6-c602-4d42-f0c6-dcf2ee0f4c22"
      },
      "source": [
        "#logarithms\n",
        "np.log(a) #natural log\n",
        "np.log10(a)"
      ],
      "execution_count": null,
      "outputs": [
        {
          "output_type": "execute_result",
          "data": {
            "text/plain": [
              "array([0.30103   , 0.47712125])"
            ]
          },
          "metadata": {},
          "execution_count": 72
        }
      ]
    },
    {
      "cell_type": "code",
      "metadata": {
        "id": "aictwNZG39SC"
      },
      "source": [
        "new_array = np.array([221,13,245,0,1])"
      ],
      "execution_count": null,
      "outputs": []
    },
    {
      "cell_type": "code",
      "metadata": {
        "colab": {
          "base_uri": "https://localhost:8080/"
        },
        "id": "UlGxviuc6-c5",
        "outputId": "cbf318b0-bfa0-41a4-cc9e-930565cdce5b"
      },
      "source": [
        "new_array.mean()"
      ],
      "execution_count": null,
      "outputs": [
        {
          "output_type": "execute_result",
          "data": {
            "text/plain": [
              "96.0"
            ]
          },
          "metadata": {},
          "execution_count": 83
        }
      ]
    },
    {
      "cell_type": "code",
      "metadata": {
        "colab": {
          "base_uri": "https://localhost:8080/"
        },
        "id": "JnMQLHcD7Bef",
        "outputId": "f44d8aa3-e0c0-45ec-9bd1-897cde0b95a0"
      },
      "source": [
        "np.median(new_array)"
      ],
      "execution_count": null,
      "outputs": [
        {
          "output_type": "execute_result",
          "data": {
            "text/plain": [
              "13.0"
            ]
          },
          "metadata": {},
          "execution_count": 84
        }
      ]
    },
    {
      "cell_type": "code",
      "metadata": {
        "colab": {
          "base_uri": "https://localhost:8080/"
        },
        "id": "H5KGxoXG7Gmg",
        "outputId": "10808268-9217-49ec-ee47-33144c2d1f1a"
      },
      "source": [
        "np.std(new_array)"
      ],
      "execution_count": null,
      "outputs": [
        {
          "output_type": "execute_result",
          "data": {
            "text/plain": [
              "17.204650534085253"
            ]
          },
          "metadata": {},
          "execution_count": 76
        }
      ]
    },
    {
      "cell_type": "code",
      "metadata": {
        "colab": {
          "base_uri": "https://localhost:8080/"
        },
        "id": "0_vnREQf7U2I",
        "outputId": "248f64fa-b401-429d-e836-05c6bb8130ba"
      },
      "source": [
        "np.var(new_array)"
      ],
      "execution_count": null,
      "outputs": [
        {
          "output_type": "execute_result",
          "data": {
            "text/plain": [
              "296.0"
            ]
          },
          "metadata": {},
          "execution_count": 77
        }
      ]
    },
    {
      "cell_type": "code",
      "metadata": {
        "id": "B4_MTh_p7j40"
      },
      "source": [
        "#covariance -value : +value\n",
        "#correlation -1 to 1\n",
        "q1 = np.array([12,32,56])\n",
        "q2 = np.array([34,56,99])"
      ],
      "execution_count": null,
      "outputs": []
    },
    {
      "cell_type": "code",
      "metadata": {
        "colab": {
          "base_uri": "https://localhost:8080/"
        },
        "id": "wqT_Ktru8_gt",
        "outputId": "a3ceeb51-038d-422e-eef4-653dd221445d"
      },
      "source": [
        "np.cov(q1,q2)"
      ],
      "execution_count": null,
      "outputs": [
        {
          "output_type": "execute_result",
          "data": {
            "text/plain": [
              "array([[ 485.33333333,  722.        ],\n",
              "       [ 722.        , 1093.        ]])"
            ]
          },
          "metadata": {},
          "execution_count": 79
        }
      ]
    },
    {
      "cell_type": "code",
      "metadata": {
        "id": "saBgS-_59Cmj"
      },
      "source": [],
      "execution_count": null,
      "outputs": []
    }
  ]
}